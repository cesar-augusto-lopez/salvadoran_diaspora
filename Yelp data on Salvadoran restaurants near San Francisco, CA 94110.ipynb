{
 "cells": [
  {
   "cell_type": "code",
   "execution_count": 15,
   "metadata": {},
   "outputs": [],
   "source": [
    "import bs4 as bs"
   ]
  },
  {
   "cell_type": "code",
   "execution_count": 16,
   "metadata": {},
   "outputs": [],
   "source": [
    "import urllib.request as url"
   ]
  },
  {
   "cell_type": "code",
   "execution_count": 17,
   "metadata": {},
   "outputs": [],
   "source": [
    "source = url.urlopen('https://www.yelp.com/search?cflt=salvadoran&find_desc=salvadoran&find_loc=94110')"
   ]
  },
  {
   "cell_type": "code",
   "execution_count": 18,
   "metadata": {},
   "outputs": [],
   "source": [
    "page_soup = bs.BeautifulSoup(source, 'html.parser')"
   ]
  },
  {
   "cell_type": "code",
   "execution_count": 19,
   "metadata": {},
   "outputs": [],
   "source": [
    "mains = page_soup.find_all(\"div\", {\"class\": \"lemon--div__373c0__1mboc largerScrollablePhotos__373c0__3FEIJ arrange__373c0__2C9bH border-color--default__373c0__3-ifU\"})"
   ]
  },
  {
   "cell_type": "code",
   "execution_count": 20,
   "metadata": {},
   "outputs": [
    {
     "ename": "IndexError",
     "evalue": "list index out of range",
     "output_type": "error",
     "traceback": [
      "\u001b[0;31m---------------------------------------------------------------------------\u001b[0m",
      "\u001b[0;31mIndexError\u001b[0m                                Traceback (most recent call last)",
      "\u001b[0;32m<ipython-input-20-ad8b96b85e5f>\u001b[0m in \u001b[0;36m<module>\u001b[0;34m\u001b[0m\n\u001b[1;32m      1\u001b[0m \u001b[0;31m#Try 1 attribute first - Busines Name\u001b[0m\u001b[0;34m\u001b[0m\u001b[0;34m\u001b[0m\u001b[0m\n\u001b[1;32m      2\u001b[0m \u001b[0;34m\u001b[0m\u001b[0m\n\u001b[0;32m----> 3\u001b[0;31m \u001b[0mmain\u001b[0m \u001b[0;34m=\u001b[0m \u001b[0mmains\u001b[0m\u001b[0;34m[\u001b[0m\u001b[0;36m1\u001b[0m\u001b[0;34m]\u001b[0m\u001b[0;34m\u001b[0m\u001b[0m\n\u001b[0m\u001b[1;32m      4\u001b[0m \u001b[0;34m\u001b[0m\u001b[0m\n\u001b[1;32m      5\u001b[0m \u001b[0mbusname\u001b[0m \u001b[0;34m=\u001b[0m \u001b[0mmain\u001b[0m\u001b[0;34m.\u001b[0m\u001b[0mfind\u001b[0m\u001b[0;34m(\u001b[0m\u001b[0;34m\"a\"\u001b[0m\u001b[0;34m)\u001b[0m\u001b[0;34m.\u001b[0m\u001b[0mtext\u001b[0m\u001b[0;34m\u001b[0m\u001b[0m\n",
      "\u001b[0;31mIndexError\u001b[0m: list index out of range"
     ]
    }
   ],
   "source": [
    "#Try 1 attribute first - Busines Name\n",
    "\n",
    "main = mains[1]\n",
    "\n",
    "busname = main.find(\"a\").text\n",
    "print(\"rest_name:\" + busname)"
   ]
  },
  {
   "cell_type": "code",
   "execution_count": 7,
   "metadata": {},
   "outputs": [
    {
     "name": "stdout",
     "output_type": "stream",
     "text": [
      "rest_ratings:4 star rating\n"
     ]
    }
   ],
   "source": [
    "#Try second attribute - Ratings\n",
    "\n",
    "ratings = main.find(\"span\", {\"class\": \"lemon--span__373c0__3997G display--inline__373c0__20f31 border-color--default__373c0__Y1Kuj\"}).div.get('aria-label')\n",
    "print(\"rest_ratings:\" + ratings)"
   ]
  },
  {
   "cell_type": "code",
   "execution_count": 8,
   "metadata": {},
   "outputs": [
    {
     "name": "stdout",
     "output_type": "stream",
     "text": [
      "rest_num_reviews:381\n"
     ]
    }
   ],
   "source": [
    "#Try third attribute - Number of reviews\n",
    "\n",
    "reviews = main.find(\"span\", {\"class\": \"lemon--span__373c0__3997G text__373c0__2Kxyz reviewCount__373c0__2r4xT text-color--black-extra-light__373c0__2OyzO text-align--left__373c0__2XGa-\"}).text\n",
    "print(\"rest_num_reviews:\" + reviews)"
   ]
  },
  {
   "cell_type": "code",
   "execution_count": 9,
   "metadata": {},
   "outputs": [
    {
     "name": "stdout",
     "output_type": "stream",
     "text": [
      "rest_cost:$$\n"
     ]
    }
   ],
   "source": [
    "#Try fourth attribute - Cost\n",
    "\n",
    "dollars = main.find(\"span\", {\"class\": \"lemon--span__373c0__3997G text__373c0__2Kxyz priceRange__373c0__2DY87 text-color--black-extra-light__373c0__2OyzO text-align--left__373c0__2XGa- text-bullet--after__373c0__3fS1Z\"}).text\n",
    "print(\"rest_cost:\" + dollars)"
   ]
  },
  {
   "cell_type": "code",
   "execution_count": 10,
   "metadata": {},
   "outputs": [
    {
     "name": "stdout",
     "output_type": "stream",
     "text": [
      "cuisine:Mexican, \n"
     ]
    }
   ],
   "source": [
    "#Try fifth attribute - Cuisine **** PENDING TO GET FULL LIST OF CATEGORIES ******\n",
    "\n",
    "cuisine = main.find(\"span\", {\"class\": \"lemon--span__373c0__3997G text__373c0__2Kxyz text-color--black-extra-light__373c0__2OyzO text-align--left__373c0__2XGa-\"}).text\n",
    "print(\"cuisine:\" + cuisine)"
   ]
  },
  {
   "cell_type": "code",
   "execution_count": 11,
   "metadata": {},
   "outputs": [
    {
     "name": "stdout",
     "output_type": "stream",
     "text": [
      "phone:(415) 285-2131\n"
     ]
    }
   ],
   "source": [
    "#Try sixth attribute - Phone number\n",
    "\n",
    "phone = main.find(\"p\", {\"class\": \"lemon--p__373c0__3Qnnj text__373c0__2Kxyz text-color--black-extra-light__373c0__2OyzO text-align--right__373c0__1f0KI text-size--small__373c0__3NVWO\"}).text\n",
    "print(\"phone:\" + phone)"
   ]
  },
  {
   "cell_type": "code",
   "execution_count": 12,
   "metadata": {},
   "outputs": [
    {
     "name": "stdout",
     "output_type": "stream",
     "text": [
      "street_name:2815 Mission St\n"
     ]
    }
   ],
   "source": [
    "#Try seventh attribute - Street Name\n",
    "\n",
    "streetname = main.find(\"span\", {\"class\": \"lemon--span__373c0__3997G raw__373c0__3rcx7\"}).text\n",
    "print(\"street_name:\" + streetname)"
   ]
  },
  {
   "cell_type": "code",
   "execution_count": 13,
   "metadata": {},
   "outputs": [
    {
     "name": "stdout",
     "output_type": "stream",
     "text": [
      "neighborhood:Mission\n"
     ]
    }
   ],
   "source": [
    "#Try eight attribute - Neighborhood\n",
    "\n",
    "neighborhood = main.find(\"div\", {\"class\": \"lemon--div__373c0__1mboc margin-b1__373c0__1khoT border-color--default__373c0__3-ifU\"}).text\n",
    "print(\"neighborhood:\" + neighborhood)"
   ]
  },
  {
   "cell_type": "code",
   "execution_count": 14,
   "metadata": {},
   "outputs": [
    {
     "name": "stdout",
     "output_type": "stream",
     "text": [
      "Rest_Name:Little Baobab\n",
      "Rest_Name:La Santaneca De La Mission\n",
      "Rest_Name:Balompie Cafe No 3\n",
      "Rest_Name:Balompie Cafe\n",
      "Rest_Name:Panchitas Pupuseria\n",
      "Rest_Name:Los Panchos\n",
      "Rest_Name:Panchita’s Restaurant\n",
      "Rest_Name:La Flor De Izote\n",
      "Rest_Name:Montecristo Restaurant 2\n",
      "Rest_Name:El Salvador\n",
      "Rest_Name:Las Brisas de Acapulco\n",
      "Rest_Name:Nena’s Restaurant\n",
      "Rest_Name:Rinconcito Salvadoreno\n",
      "Rest_Name:La Paz Restaurant Pupuseria\n",
      "Rest_Name:Rincon Latino\n",
      "Rest_Name:D’Maize\n",
      "Rest_Name:Elsy’s Restaurant\n",
      "Rest_Name:Restaurant Pupuseria Ilobasco\n",
      "Rest_Name:Los Planes De Renderos Pupuseria\n",
      "Rest_Name:Pupuseria Metapan\n",
      "Rest_Name:Los Reyes Restaurant\n",
      "Rest_Name:Capp St Papusas\n",
      "Rest_Name:Montecristo Restaurant\n",
      "Rest_Name:Reinas Restaurant\n",
      "Rest_Name:San Vicente\n",
      "Rest_Name:Restaurante Familiar\n",
      "Rest_Name:Manitas Cafe\n",
      "Rest_Name:D’maize Cafe\n",
      "Rest_Name:Mateos\n",
      "Rest_Name:Los Trinos\n"
     ]
    }
   ],
   "source": [
    "#Set loop over 1 attribute\n",
    "\n",
    "for main in mains:\n",
    "    try:\n",
    "        busname = main.find(\"a\").text\n",
    "        print(\"Rest_Name:\" + busname)\n",
    "    except:\n",
    "        print(None)"
   ]
  },
  {
   "cell_type": "code",
   "execution_count": 15,
   "metadata": {},
   "outputs": [
    {
     "data": {
      "text/plain": [
       "78"
      ]
     },
     "execution_count": 15,
     "metadata": {},
     "output_type": "execute_result"
    }
   ],
   "source": [
    "\n",
    "#Save in a file\n",
    "filename = \"yelp_SalvadoranRestaurants_94110.csv\"\n",
    "\n",
    "f = open(filename, \"w\", encoding='utf-8')\n",
    "\n",
    "header = \"rest_name, ratings, reviews, dollars, cuisine, phone, streetname, neighborhood\"\n",
    "\n",
    "f.write(header)"
   ]
  },
  {
   "cell_type": "code",
   "execution_count": 16,
   "metadata": {},
   "outputs": [
    {
     "name": "stdout",
     "output_type": "stream",
     "text": [
      "rest_name:Little Baobab\n",
      "rest_ratings:4 star rating\n",
      "rest_num_reviews:562\n",
      "rest_cost:$$\n",
      "cuisine:Senegalese\n",
      "phone:(415) 826-9287\n",
      "street_name:3386 19th Street\n",
      "neighborhood:Mission\n",
      "rest_name:La Santaneca De La Mission\n",
      "rest_ratings:4 star rating\n",
      "rest_num_reviews:381\n",
      "rest_cost:$$\n",
      "cuisine:Mexican, \n",
      "phone:(415) 285-2131\n",
      "street_name:2815 Mission St\n",
      "neighborhood:Mission\n",
      "rest_name:Balompie Cafe No 3\n",
      "rest_ratings:4 star rating\n",
      "rest_num_reviews:344\n",
      "rest_cost:$$\n",
      "cuisine:Seafood, \n",
      "phone:(415) 647-4000\n",
      "street_name:3801 Mission St\n",
      "neighborhood:Bernal Heights\n",
      "rest_name:Balompie Cafe\n",
      "rest_ratings:4 star rating\n",
      "rest_num_reviews:652\n",
      "rest_cost:$$\n",
      "cuisine:Salvadoran\n",
      "phone:(415) 648-9199\n",
      "street_name:3349 18th St\n",
      "neighborhood:Mission\n",
      "rest_name:Panchitas Pupuseria\n",
      "rest_ratings:4 star rating\n",
      "rest_num_reviews:40\n",
      "rest_cost:$$\n",
      "cuisine:Salvadoran\n",
      "phone:(415) 913-7273\n",
      "street_name:530 Valencia St\n",
      "neighborhood:Mission\n",
      "rest_name:Los Panchos\n",
      "rest_ratings:4 star rating\n",
      "rest_num_reviews:343\n",
      "rest_cost:$\n",
      "cuisine:Mexican, \n",
      "phone:(415) 285-1033\n",
      "street_name:3206 Mission St\n",
      "neighborhood:Bernal Heights\n",
      "rest_name:Panchita’s Restaurant\n",
      "rest_ratings:4 star rating\n",
      "rest_num_reviews:695\n",
      "rest_cost:$$\n",
      "cuisine:Salvadoran, \n",
      "phone:(415) 431-4232\n",
      "street_name:3091 16th St\n",
      "neighborhood:Mission\n",
      "rest_name:La Flor De Izote\n",
      "rest_ratings:3 star rating\n",
      "rest_num_reviews:13\n",
      "None\n",
      "cuisine:Mexican, \n",
      "phone:(415) 926-8062\n",
      "street_name:3781 Mission St\n",
      "neighborhood:Bernal Heights\n",
      "rest_name:Montecristo Restaurant 2\n",
      "rest_ratings:4.5 star rating\n",
      "rest_num_reviews:30\n",
      "rest_cost:$$\n",
      "cuisine:Salvadoran\n",
      "phone:(415) 641-6272\n",
      "street_name:3723 Mission St\n",
      "neighborhood:Bernal Heights\n",
      "rest_name:El Salvador\n",
      "rest_ratings:4 star rating\n",
      "rest_num_reviews:104\n",
      "rest_cost:$\n",
      "cuisine:Salvadoran\n",
      "phone:(415) 864-6668\n",
      "street_name:2278 Mission St\n",
      "neighborhood:Mission\n",
      "rest_name:Las Brisas de Acapulco\n",
      "rest_ratings:4 star rating\n",
      "rest_num_reviews:51\n",
      "rest_cost:$\n",
      "cuisine:American (New), \n",
      "phone:(415) 826-1496\n",
      "street_name:3137 Mission St\n",
      "neighborhood:Bernal Heights\n",
      "rest_name:Nena’s Restaurant\n",
      "rest_ratings:4 star rating\n",
      "rest_num_reviews:48\n",
      "rest_cost:$\n",
      "cuisine:Mexican, \n",
      "phone:(415) 285-8985\n",
      "street_name:3459 Mission St\n",
      "neighborhood:Bernal Heights\n",
      "rest_name:Rinconcito Salvadoreno\n",
      "rest_ratings:3 star rating\n",
      "rest_num_reviews:49\n",
      "rest_cost:$$\n",
      "cuisine:Salvadoran\n",
      "phone:(415) 282-9114\n",
      "street_name:3829 Mission St\n",
      "neighborhood:Bernal Heights\n",
      "rest_name:La Paz Restaurant Pupuseria\n",
      "rest_ratings:4 star rating\n",
      "rest_num_reviews:103\n",
      "rest_cost:$\n",
      "cuisine:Mexican, \n",
      "phone:(415) 550-8313\n",
      "street_name:1028 Potrero Ave\n",
      "neighborhood:Mission\n",
      "rest_name:Rincon Latino\n",
      "rest_ratings:4 star rating\n",
      "rest_num_reviews:38\n",
      "rest_cost:$$\n",
      "cuisine:Salvadoran, \n",
      "phone:(415) 586-8787\n",
      "street_name:5080 Mission St\n",
      "neighborhood:Outer Mission\n",
      "rest_name:D’Maize\n",
      "rest_ratings:4.5 star rating\n",
      "rest_num_reviews:56\n",
      "rest_cost:$\n",
      "cuisine:Breakfast & Brunch, \n",
      "phone:(415) 424-0604\n",
      "street_name:2778 24th St\n",
      "neighborhood:Mission\n",
      "rest_name:Elsy’s Restaurant\n",
      "rest_ratings:3.5 star rating\n",
      "rest_num_reviews:116\n",
      "rest_cost:$\n",
      "cuisine:Salvadoran\n",
      "phone:(415) 642-0104\n",
      "street_name:2893 Mission St\n",
      "neighborhood:Mission\n",
      "rest_name:Restaurant Pupuseria Ilobasco\n",
      "rest_ratings:3.5 star rating\n",
      "rest_num_reviews:59\n",
      "rest_cost:$$\n",
      "cuisine:Salvadoran\n",
      "phone:(415) 468-3300\n",
      "street_name:2680 San Bruno Ave\n",
      "neighborhood:Portola\n",
      "rest_name:Los Planes De Renderos Pupuseria\n",
      "rest_ratings:4 star rating\n",
      "rest_num_reviews:126\n",
      "rest_cost:$\n",
      "cuisine:Salvadoran\n",
      "phone:(415) 585-8645\n",
      "street_name:12 Persia Ave\n",
      "neighborhood:Excelsior\n",
      "rest_name:Pupuseria Metapan\n",
      "rest_ratings:3.5 star rating\n",
      "rest_num_reviews:86\n",
      "rest_cost:$\n",
      "cuisine:Salvadoran\n",
      "phone:(415) 587-8599\n",
      "street_name:4769 Mission St\n",
      "neighborhood:Excelsior\n",
      "rest_name:Los Reyes Restaurant\n",
      "rest_ratings:4.5 star rating\n",
      "rest_num_reviews:55\n",
      "rest_cost:$\n",
      "cuisine:Salvadoran, \n",
      "phone:(415) 466-6214\n",
      "street_name:2101 Geneva Ave\n",
      "neighborhood:Visitacion Valley\n",
      "rest_name:Capp St Papusas\n",
      "rest_ratings:5 star rating\n",
      "rest_num_reviews:1\n",
      "rest_cost:$\n",
      "cuisine:Salvadoran\n",
      "phone:24th St & Capp\n",
      "street_name:24th St & Capp\n",
      "neighborhood:Mission\n",
      "rest_name:Montecristo Restaurant\n",
      "rest_ratings:3 star rating\n",
      "rest_num_reviews:54\n",
      "rest_cost:$\n",
      "cuisine:Salvadoran, \n",
      "phone:(415) 468-2113\n",
      "street_name:6286 3rd St\n",
      "neighborhood:Bayview-Hunters Point\n",
      "rest_name:Reinas Restaurant\n",
      "rest_ratings:3.5 star rating\n",
      "rest_num_reviews:132\n",
      "rest_cost:$\n",
      "cuisine:Salvadoran, \n",
      "phone:(415) 585-7694\n",
      "street_name:5479 Mission St\n",
      "neighborhood:Crocker-Amazon\n",
      "rest_name:San Vicente\n",
      "rest_ratings:3 star rating\n",
      "rest_num_reviews:25\n",
      "rest_cost:$$\n",
      "cuisine:Salvadoran\n",
      "phone:(415) 333-6100\n",
      "street_name:4423 Mission St\n",
      "neighborhood:Excelsior\n",
      "rest_name:Restaurante Familiar\n",
      "rest_ratings:3.5 star rating\n",
      "rest_num_reviews:44\n",
      "rest_cost:$\n",
      "cuisine:Mexican, \n",
      "phone:(415) 334-6100\n",
      "street_name:4499 Mission St\n",
      "neighborhood:Excelsior\n",
      "rest_name:Manitas Cafe\n",
      "rest_ratings:4.5 star rating\n",
      "rest_num_reviews:90\n",
      "rest_cost:$$\n",
      "cuisine:Salvadoran, \n",
      "phone:(415) 213-5566\n",
      "street_name:2078 Hayes St\n",
      "neighborhood:NoPa\n",
      "rest_name:D’maize Cafe\n",
      "None\n",
      "None\n",
      "None\n",
      "cuisine:Salvadoran\n",
      "phone:(415) 424-0604\n",
      "street_name:11 Frida Kahlo\n",
      "neighborhood:Westwood Park\n",
      "rest_name:Mateos\n",
      "rest_ratings:4 star rating\n",
      "rest_num_reviews:6\n",
      "None\n",
      "cuisine:Salvadoran, \n",
      "phone:833 Bryant St\n",
      "street_name:833 Bryant St\n",
      "neighborhood:Mission Bay\n",
      "rest_name:Los Trinos\n",
      "rest_ratings:4 star rating\n",
      "rest_num_reviews:29\n",
      "rest_cost:$\n",
      "cuisine:Salvadoran\n",
      "phone:(415) 769-5093\n",
      "street_name:5672 Mission St\n",
      "neighborhood:Crocker-Amazon\n"
     ]
    }
   ],
   "source": [
    "for main in mains:\n",
    "    try:\n",
    "        busname = main.find(\"a\").text\n",
    "        print(\"rest_name:\" + busname)\n",
    "    except:\n",
    "        print(None)\n",
    "    try:\n",
    "        ratings = main.find(\"span\", {\"class\": \"lemon--span__373c0__3997G display--inline__373c0__20f31 border-color--default__373c0__Y1Kuj\"}).div.get('aria-label')\n",
    "        print(\"rest_ratings:\" + ratings)\n",
    "    except:\n",
    "        print(None)\n",
    "    try:\n",
    "        reviews = main.find(\"span\", {\"class\": \"lemon--span__373c0__3997G text__373c0__2Kxyz reviewCount__373c0__2r4xT text-color--black-extra-light__373c0__2OyzO text-align--left__373c0__2XGa-\"}).text\n",
    "        print(\"rest_num_reviews:\" + reviews)\n",
    "    except:\n",
    "        print(None)\n",
    "    try:\n",
    "        dollars = main.find(\"span\", {\"class\": \"lemon--span__373c0__3997G text__373c0__2Kxyz priceRange__373c0__2DY87 text-color--black-extra-light__373c0__2OyzO text-align--left__373c0__2XGa- text-bullet--after__373c0__3fS1Z\"}).text\n",
    "        print(\"rest_cost:\" + dollars)\n",
    "    except:\n",
    "        print(None) \n",
    "    try:\n",
    "        cuisine = main.find(\"span\", {\"class\": \"lemon--span__373c0__3997G text__373c0__2Kxyz text-color--black-extra-light__373c0__2OyzO text-align--left__373c0__2XGa-\"}).text\n",
    "        print(\"cuisine:\" + cuisine)\n",
    "    except:\n",
    "        print(None)      \n",
    "    try:\n",
    "        phone = main.find(\"p\", {\"class\": \"lemon--p__373c0__3Qnnj text__373c0__2Kxyz text-color--black-extra-light__373c0__2OyzO text-align--right__373c0__1f0KI text-size--small__373c0__3NVWO\"}).text\n",
    "        print(\"phone:\" + phone)\n",
    "    except:\n",
    "        print(None) \n",
    "    try:\n",
    "        streetname = main.find(\"span\", {\"class\": \"lemon--span__373c0__3997G raw__373c0__3rcx7\"}).text\n",
    "        print(\"street_name:\" + streetname)\n",
    "    except:\n",
    "        print(None) \n",
    "    try:\n",
    "        neighborhood = main.find(\"div\", {\"class\": \"lemon--div__373c0__1mboc margin-b1__373c0__1khoT border-color--default__373c0__3-ifU\"}).text\n",
    "        print(\"neighborhood:\" + neighborhood)\n",
    "    except:\n",
    "        print(None) \n",
    "    f.write(\"\\n\" + busname + \",\" + ratings + \",\" + reviews + \",\" + dollars + \",\" + cuisine + \",\" + phone + \",\" + streetname + \",\" + neighborhood)\n",
    "    \n",
    "f.close()"
   ]
  },
  {
   "cell_type": "code",
   "execution_count": null,
   "metadata": {},
   "outputs": [],
   "source": []
  }
 ],
 "metadata": {
  "kernelspec": {
   "display_name": "Python 3",
   "language": "python",
   "name": "python3"
  },
  "language_info": {
   "codemirror_mode": {
    "name": "ipython",
    "version": 3
   },
   "file_extension": ".py",
   "mimetype": "text/x-python",
   "name": "python",
   "nbconvert_exporter": "python",
   "pygments_lexer": "ipython3",
   "version": "3.7.0"
  }
 },
 "nbformat": 4,
 "nbformat_minor": 2
}
