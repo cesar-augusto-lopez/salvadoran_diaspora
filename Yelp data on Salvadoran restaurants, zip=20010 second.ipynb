{
 "cells": [
  {
   "cell_type": "code",
   "execution_count": 1,
   "metadata": {},
   "outputs": [],
   "source": [
    "import bs4 as bs"
   ]
  },
  {
   "cell_type": "code",
   "execution_count": 2,
   "metadata": {},
   "outputs": [],
   "source": [
    "import urllib.request as url"
   ]
  },
  {
   "cell_type": "code",
   "execution_count": 3,
   "metadata": {},
   "outputs": [],
   "source": [
    "source = url.urlopen('https://www.yelp.com/search?find_desc=Salvadoran%20Food&find_loc=20010&ns=1&start=30')"
   ]
  },
  {
   "cell_type": "code",
   "execution_count": 4,
   "metadata": {},
   "outputs": [],
   "source": [
    "page_soup = bs.BeautifulSoup(source, 'html.parser')"
   ]
  },
  {
   "cell_type": "code",
   "execution_count": 5,
   "metadata": {},
   "outputs": [],
   "source": [
    "mains = page_soup.find_all(\"div\", {\"class\": \"lemon--div__373c0__1mboc scrollablePhotos__373c0__1LEvd arrange__373c0__2C9bH border-color--default__373c0__3-ifU\"})"
   ]
  },
  {
   "cell_type": "code",
   "execution_count": 6,
   "metadata": {},
   "outputs": [
    {
     "name": "stdout",
     "output_type": "stream",
     "text": [
      "rest_name:La Villa Restaurant\n"
     ]
    }
   ],
   "source": [
    "#Try 1 attribute first - Busines Name\n",
    "\n",
    "main = mains[1]\n",
    "\n",
    "busname = main.find(\"a\").text\n",
    "print(\"rest_name:\" + busname)"
   ]
  },
  {
   "cell_type": "code",
   "execution_count": 7,
   "metadata": {},
   "outputs": [
    {
     "name": "stdout",
     "output_type": "stream",
     "text": [
      "rest_ratings:4.5 star rating\n"
     ]
    }
   ],
   "source": [
    "#Try second attribute - Ratings\n",
    "\n",
    "ratings = main.find(\"span\", {\"class\": \"lemon--span__373c0__3997G display--inline__373c0__3JqBP border-color--default__373c0__3-ifU\"}).div.get('aria-label')\n",
    "print(\"rest_ratings:\" + ratings)"
   ]
  },
  {
   "cell_type": "code",
   "execution_count": 8,
   "metadata": {},
   "outputs": [
    {
     "name": "stdout",
     "output_type": "stream",
     "text": [
      "rest_num_reviews:8\n"
     ]
    }
   ],
   "source": [
    "#Try third attribute - Number of reviews\n",
    "\n",
    "reviews = main.find(\"span\", {\"class\": \"lemon--span__373c0__3997G text__373c0__2Kxyz reviewCount__373c0__2r4xT text-color--black-extra-light__373c0__2OyzO text-align--left__373c0__2XGa-\"}).text\n",
    "print(\"rest_num_reviews:\" + reviews)"
   ]
  },
  {
   "cell_type": "code",
   "execution_count": 9,
   "metadata": {},
   "outputs": [
    {
     "name": "stdout",
     "output_type": "stream",
     "text": [
      "rest_cost:$$\n"
     ]
    }
   ],
   "source": [
    "#Try fourth attribute - Cost\n",
    "\n",
    "dollars = main.find(\"span\", {\"class\": \"lemon--span__373c0__3997G text__373c0__2Kxyz priceRange__373c0__2DY87 text-color--black-extra-light__373c0__2OyzO text-align--left__373c0__2XGa- text-bullet--after__373c0__3fS1Z\"}).text\n",
    "print(\"rest_cost:\" + dollars)"
   ]
  },
  {
   "cell_type": "code",
   "execution_count": 10,
   "metadata": {},
   "outputs": [
    {
     "name": "stdout",
     "output_type": "stream",
     "text": [
      "cuisine:Mexican, \n"
     ]
    }
   ],
   "source": [
    "#Try fifth attribute - Cuisine **** PENDING TO GET FULL LIST OF CATEGORIES ******\n",
    "\n",
    "cuisine = main.find(\"span\", {\"class\": \"lemon--span__373c0__3997G text__373c0__2Kxyz text-color--black-extra-light__373c0__2OyzO text-align--left__373c0__2XGa-\"}).text\n",
    "print(\"cuisine:\" + cuisine)"
   ]
  },
  {
   "cell_type": "code",
   "execution_count": 11,
   "metadata": {},
   "outputs": [
    {
     "name": "stdout",
     "output_type": "stream",
     "text": [
      "phone:(202) 545-0030\n"
     ]
    }
   ],
   "source": [
    "#Try sixth attribute - Phone number\n",
    "\n",
    "phone = main.find(\"p\", {\"class\": \"lemon--p__373c0__3Qnnj text__373c0__2Kxyz text-color--black-extra-light__373c0__2OyzO text-align--right__373c0__1f0KI text-size--small__373c0__3NVWO\"}).text\n",
    "print(\"phone:\" + phone)"
   ]
  },
  {
   "cell_type": "code",
   "execution_count": 12,
   "metadata": {},
   "outputs": [
    {
     "name": "stdout",
     "output_type": "stream",
     "text": [
      "street_name:6115 Georgia Ave NW\n"
     ]
    }
   ],
   "source": [
    "#Try seventh attribute - Street Name\n",
    "\n",
    "streetname = main.find(\"span\", {\"class\": \"lemon--span__373c0__3997G raw__373c0__3rcx7\"}).text\n",
    "print(\"street_name:\" + streetname)"
   ]
  },
  {
   "cell_type": "code",
   "execution_count": 13,
   "metadata": {},
   "outputs": [
    {
     "name": "stdout",
     "output_type": "stream",
     "text": [
      "neighborhood:\n"
     ]
    }
   ],
   "source": [
    "#Try eight attribute - Neighborhood\n",
    "\n",
    "neighborhood = main.find(\"div\", {\"class\": \"lemon--div__373c0__1mboc margin-b1__373c0__1khoT border-color--default__373c0__3-ifU\"}).text\n",
    "print(\"neighborhood:\" + neighborhood)"
   ]
  },
  {
   "cell_type": "code",
   "execution_count": 14,
   "metadata": {},
   "outputs": [
    {
     "name": "stdout",
     "output_type": "stream",
     "text": [
      "Rest_Name:El Encanto Latino\n",
      "Rest_Name:La Villa Restaurant\n",
      "Rest_Name:Silvestre Chicken\n",
      "Rest_Name:Taqueria & Rosticeria Fresca\n",
      "Rest_Name:Combinacion Restaurant\n",
      "Rest_Name:Okapi\n",
      "Rest_Name:La Molienda Restaurant\n",
      "Rest_Name:El Paraiso Tex Mex Restaurant\n",
      "Rest_Name:Haydees 2000\n",
      "Rest_Name:Pica Taco\n",
      "Rest_Name:El Dorado Bread Restaurant\n",
      "Rest_Name:Dulcinea Bar & Grill\n",
      "Rest_Name:Pupuseria y Taqueria Noemy\n",
      "Rest_Name:El Chucho\n",
      "Rest_Name:Taqueria Distrito Federal\n",
      "Rest_Name:Pica Taco\n",
      "Rest_Name:Super Tacos & Bakery\n",
      "Rest_Name:Chaia Tacos\n",
      "Rest_Name:Leyla’s Restaurant\n",
      "Rest_Name:Haydee’s Restaurant\n",
      "Rest_Name:El Sol Restaurant & Tequileria\n",
      "Rest_Name:Alero Restaurant\n",
      "Rest_Name:Oyamel\n",
      "Rest_Name:Guajillo Mexican Cuisine\n",
      "Rest_Name:QDOBA Mexican Eats\n",
      "Rest_Name:Rosa Mexicano\n"
     ]
    }
   ],
   "source": [
    "#Set loop over 1 attribute\n",
    "\n",
    "for main in mains:\n",
    "    try:\n",
    "        busname = main.find(\"a\").text\n",
    "        print(\"Rest_Name:\" + busname)\n",
    "    except:\n",
    "        print(None)"
   ]
  },
  {
   "cell_type": "code",
   "execution_count": 15,
   "metadata": {},
   "outputs": [
    {
     "data": {
      "text/plain": [
       "78"
      ]
     },
     "execution_count": 15,
     "metadata": {},
     "output_type": "execute_result"
    }
   ],
   "source": [
    "\n",
    "#Save in a file\n",
    "filename = \"yelp_SalvadoranRestaurants_20010_second.csv\"\n",
    "\n",
    "f = open(filename, \"w\", encoding='utf-8')\n",
    "\n",
    "header = \"rest_name, ratings, reviews, dollars, cuisine, phone, streetname, neighborhood\"\n",
    "\n",
    "f.write(header)"
   ]
  },
  {
   "cell_type": "code",
   "execution_count": 16,
   "metadata": {},
   "outputs": [
    {
     "name": "stdout",
     "output_type": "stream",
     "text": [
      "rest_name:El Encanto Latino\n",
      "None\n",
      "rest_num_reviews:3\n",
      "None\n",
      "cuisine:Food Trucks, \n",
      "phone:(240) 605-4547\n",
      "street_name:923 S George Mason Dr\n",
      "neighborhood:\n",
      "rest_name:La Villa Restaurant\n",
      "None\n",
      "rest_num_reviews:8\n",
      "rest_cost:$$\n",
      "cuisine:Mexican, \n",
      "phone:(202) 545-0030\n",
      "street_name:6115 Georgia Ave NW\n",
      "neighborhood:\n",
      "rest_name:Silvestre Chicken\n",
      "None\n",
      "rest_num_reviews:8\n",
      "rest_cost:$\n",
      "cuisine:Tex-Mex, \n",
      "phone:(202) 304-4126\n",
      "street_name:5922 Riggs Rd\n",
      "neighborhood:\n",
      "rest_name:Taqueria & Rosticeria Fresca\n",
      "None\n",
      "rest_num_reviews:161\n",
      "rest_cost:$$\n",
      "cuisine:Mexican, \n",
      "phone:(202) 544-1579\n",
      "street_name:701 H St NE\n",
      "neighborhood:H Street Corridor/Atlas District/Near Northeast\n",
      "rest_name:Combinacion Restaurant\n",
      "None\n",
      "rest_num_reviews:3\n",
      "None\n",
      "cuisine:Mexican, \n",
      "phone:(202) 797-9765\n",
      "street_name:1772 Columbia Rd NW\n",
      "neighborhood:Adams Morgan\n",
      "rest_name:Okapi\n",
      "None\n",
      "rest_num_reviews:2\n",
      "rest_cost:$\n",
      "cuisine:Salvadoran\n",
      "phone:(202) 290-2578\n",
      "street_name:4811 Georgia Ave NW\n",
      "neighborhood:\n",
      "rest_name:La Molienda Restaurant\n",
      "None\n",
      "rest_num_reviews:9\n",
      "rest_cost:$\n",
      "cuisine:Mexican\n",
      "phone:(202) 291-0855\n",
      "street_name:3568 14th St NW\n",
      "neighborhood:Columbia Heights\n",
      "rest_name:El Paraiso Tex Mex Restaurant\n",
      "None\n",
      "rest_num_reviews:20\n",
      "rest_cost:$$\n",
      "cuisine:Tex-Mex, \n",
      "phone:(301) 270-1190\n",
      "street_name:Located in Takoma Park Plaza\n",
      "neighborhood:\n",
      "rest_name:Haydees 2000\n",
      "None\n",
      "rest_num_reviews:29\n",
      "rest_cost:$$\n",
      "cuisine:Latin American, \n",
      "phone:(202) 829-6647\n",
      "street_name:6303 Georgia Ave NW\n",
      "neighborhood:\n",
      "rest_name:Pica Taco\n",
      "None\n",
      "rest_num_reviews:288\n",
      "rest_cost:$\n",
      "cuisine:Mexican\n",
      "phone:(202) 518-6820\n",
      "street_name:1406 Florida Ave NW\n",
      "neighborhood:\n",
      "rest_name:El Dorado Bread Restaurant\n",
      "None\n",
      "rest_num_reviews:15\n",
      "rest_cost:$$\n",
      "cuisine:Mexican, \n",
      "phone:(202) 722-1440\n",
      "street_name:6209 Georgia Ave NW\n",
      "neighborhood:\n",
      "rest_name:Dulcinea Bar & Grill\n",
      "None\n",
      "rest_num_reviews:121\n",
      "rest_cost:$$\n",
      "cuisine:Mexican\n",
      "phone:(202) 265-0868\n",
      "street_name:2618 Georgia Ave NW\n",
      "neighborhood:\n",
      "rest_name:Pupuseria y Taqueria Noemy\n",
      "None\n",
      "rest_num_reviews:3\n",
      "rest_cost:$\n",
      "cuisine:Food Trucks, \n",
      "phone:(301) 364-2924\n",
      "street_name:6300 New Hampshire Ave NE\n",
      "neighborhood:\n",
      "rest_name:El Chucho\n",
      "None\n",
      "rest_num_reviews:602\n",
      "rest_cost:$$\n",
      "cuisine:Mexican, \n",
      "phone:(202) 290-3313\n",
      "street_name:3313 11th St NW\n",
      "neighborhood:Columbia Heights\n",
      "rest_name:Taqueria Distrito Federal\n",
      "None\n",
      "rest_num_reviews:65\n",
      "rest_cost:$\n",
      "cuisine:Latin American, \n",
      "phone:(202) 545-6990\n",
      "street_name:805 Kennedy St NW\n",
      "neighborhood:\n",
      "rest_name:Pica Taco\n",
      "None\n",
      "rest_num_reviews:127\n",
      "rest_cost:$\n",
      "cuisine:Mexican\n",
      "phone:(202) 518-0076\n",
      "street_name:1629 Columbia Rd NW\n",
      "neighborhood:\n",
      "rest_name:Super Tacos & Bakery\n",
      "None\n",
      "rest_num_reviews:345\n",
      "rest_cost:$\n",
      "cuisine:Bakeries, \n",
      "phone:(202) 232-7122\n",
      "street_name:1762 Columbia Rd NW\n",
      "neighborhood:Adams Morgan\n",
      "rest_name:Chaia Tacos\n",
      "None\n",
      "rest_num_reviews:115\n",
      "None\n",
      "cuisine:Tacos\n",
      "phone:(202) 290-1019\n",
      "street_name:615 I St NW\n",
      "neighborhood:Chinatown\n",
      "rest_name:Leyla’s Restaurant\n",
      "None\n",
      "rest_num_reviews:15\n",
      "rest_cost:$\n",
      "cuisine:Salvadoran, \n",
      "phone:(301) 853-2233\n",
      "street_name:5607 Sargent Rd\n",
      "neighborhood:\n",
      "rest_name:Haydee’s Restaurant\n",
      "None\n",
      "rest_num_reviews:202\n",
      "rest_cost:$$\n",
      "cuisine:Mexican\n",
      "phone:(202) 483-9199\n",
      "street_name:3102 Mount Pleasant St NW\n",
      "neighborhood:Mount Pleasant\n",
      "rest_name:El Sol Restaurant & Tequileria\n",
      "None\n",
      "rest_num_reviews:504\n",
      "rest_cost:$$\n",
      "cuisine:Mexican, \n",
      "phone:(202) 815-4789\n",
      "street_name:1227 11th St NW\n",
      "neighborhood:Shaw\n",
      "rest_name:Alero Restaurant\n",
      "None\n",
      "rest_num_reviews:736\n",
      "rest_cost:$$\n",
      "cuisine:Mexican\n",
      "phone:(202) 462-2322\n",
      "street_name:1301 U St NW\n",
      "neighborhood:U Street Corridor\n",
      "rest_name:Oyamel\n",
      "None\n",
      "rest_num_reviews:2750\n",
      "rest_cost:$$\n",
      "cuisine:Mexican, \n",
      "phone:(202) 628-1005\n",
      "street_name:401 7th St NW\n",
      "neighborhood:Penn Quarter\n",
      "rest_name:Guajillo Mexican Cuisine\n",
      "None\n",
      "rest_num_reviews:527\n",
      "rest_cost:$$\n",
      "cuisine:Mexican, \n",
      "phone:(703) 807-0840\n",
      "street_name:Located in Colonial Village Shopping Center\n",
      "neighborhood:Rosslyn\n",
      "rest_name:QDOBA Mexican Eats\n",
      "None\n",
      "rest_num_reviews:113\n",
      "rest_cost:$\n",
      "cuisine:Mexican, \n",
      "phone:(202) 347-8477\n",
      "street_name:555 11th St NW\n",
      "neighborhood:\n",
      "rest_name:Rosa Mexicano\n",
      "None\n",
      "rest_num_reviews:1304\n",
      "rest_cost:$$\n",
      "cuisine:Mexican\n",
      "phone:(202) 783-5522\n",
      "street_name:575 7th St NW\n",
      "neighborhood:Penn Quarter\n"
     ]
    }
   ],
   "source": [
    "for main in mains:\n",
    "    try:\n",
    "        busname = main.find(\"a\").text\n",
    "        print(\"rest_name:\" + busname)\n",
    "    except:\n",
    "        print(None)\n",
    "    try:\n",
    "        ratings = main.find(\"span\", {\"class\": \"lemon--div__373c0__1mboc scrollablePhotos__373c0__1LEvd arrange__373c0__2C9bH border-color--default__373c0__3-ifU\"}).div.get('aria-label')\n",
    "        print(\"rest_ratings:\" + ratings)\n",
    "    except:\n",
    "        print(None)\n",
    "    try:\n",
    "        reviews = main.find(\"span\", {\"class\": \"lemon--span__373c0__3997G text__373c0__2Kxyz reviewCount__373c0__2r4xT text-color--black-extra-light__373c0__2OyzO text-align--left__373c0__2XGa-\"}).text\n",
    "        print(\"rest_num_reviews:\" + reviews)\n",
    "    except:\n",
    "        print(None)\n",
    "    try:\n",
    "        dollars = main.find(\"span\", {\"class\": \"lemon--span__373c0__3997G text__373c0__2Kxyz priceRange__373c0__2DY87 text-color--black-extra-light__373c0__2OyzO text-align--left__373c0__2XGa- text-bullet--after__373c0__3fS1Z\"}).text\n",
    "        print(\"rest_cost:\" + dollars)\n",
    "    except:\n",
    "        print(None) \n",
    "    try:\n",
    "        cuisine = main.find(\"span\", {\"class\": \"lemon--span__373c0__3997G text__373c0__2Kxyz text-color--black-extra-light__373c0__2OyzO text-align--left__373c0__2XGa-\"}).text\n",
    "        print(\"cuisine:\" + cuisine)\n",
    "    except:\n",
    "        print(None)      \n",
    "    try:\n",
    "        phone = main.find(\"p\", {\"class\": \"lemon--p__373c0__3Qnnj text__373c0__2Kxyz text-color--black-extra-light__373c0__2OyzO text-align--right__373c0__1f0KI text-size--small__373c0__3NVWO\"}).text\n",
    "        print(\"phone:\" + phone)\n",
    "    except:\n",
    "        print(None) \n",
    "    try:\n",
    "        streetname = main.find(\"span\", {\"class\": \"lemon--span__373c0__3997G raw__373c0__3rcx7\"}).text\n",
    "        print(\"street_name:\" + streetname)\n",
    "    except:\n",
    "        print(None) \n",
    "    try:\n",
    "        neighborhood = main.find(\"div\", {\"class\": \"lemon--div__373c0__1mboc margin-b1__373c0__1khoT border-color--default__373c0__3-ifU\"}).text\n",
    "        print(\"neighborhood:\" + neighborhood)\n",
    "    except:\n",
    "        print(None) \n",
    "    f.write(\"\\n\" + busname + \",\" + ratings + \",\" + reviews + \",\" + dollars + \",\" + cuisine + \",\" + phone + \",\" + streetname + \",\" + neighborhood)\n",
    "    \n",
    "f.close()"
   ]
  },
  {
   "cell_type": "code",
   "execution_count": null,
   "metadata": {},
   "outputs": [],
   "source": []
  }
 ],
 "metadata": {
  "kernelspec": {
   "display_name": "Python 3",
   "language": "python",
   "name": "python3"
  },
  "language_info": {
   "codemirror_mode": {
    "name": "ipython",
    "version": 3
   },
   "file_extension": ".py",
   "mimetype": "text/x-python",
   "name": "python",
   "nbconvert_exporter": "python",
   "pygments_lexer": "ipython3",
   "version": "3.7.0"
  }
 },
 "nbformat": 4,
 "nbformat_minor": 2
}
